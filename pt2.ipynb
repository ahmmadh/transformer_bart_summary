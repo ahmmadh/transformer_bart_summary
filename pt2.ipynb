{
 "cells": [
  {
   "cell_type": "code",
   "execution_count": 1,
   "metadata": {},
   "outputs": [
    {
     "name": "stderr",
     "output_type": "stream",
     "text": [
      "c:\\Users\\Ahmad\\anaconda3\\envs\\transformergpux\\Lib\\site-packages\\tqdm\\auto.py:21: TqdmWarning: IProgress not found. Please update jupyter and ipywidgets. See https://ipywidgets.readthedocs.io/en/stable/user_install.html\n",
      "  from .autonotebook import tqdm as notebook_tqdm\n"
     ]
    }
   ],
   "source": [
    "from datasets import load_dataset\n",
    "from transformers import pipeline, AutoTokenizer, BartForConditionalGeneration, BartTokenizer\n",
    "import gradio as gr\n",
    "import torch"
   ]
  },
  {
   "cell_type": "code",
   "execution_count": 2,
   "metadata": {},
   "outputs": [
    {
     "name": "stdout",
     "output_type": "stream",
     "text": [
      "gpu:  NVIDIA GeForce RTX 2080\n"
     ]
    }
   ],
   "source": [
    "if torch.cuda.is_available():\n",
    "    device = torch.device(\"cuda\")\n",
    "    print(\"gpu: \", torch.cuda.get_device_name())\n",
    "else:\n",
    "    device = torch.device(\"cpu\")\n",
    "    print(\"No GPU available, using CPU.\")"
   ]
  },
  {
   "cell_type": "markdown",
   "metadata": {},
   "source": [
    "we will be using the gpu, we can switch to cpu or colab them together"
   ]
  },
  {
   "cell_type": "code",
   "execution_count": 3,
   "metadata": {},
   "outputs": [],
   "source": [
    "ds = load_dataset(\"cnn_dailymail\",\"1.0.0\")"
   ]
  },
  {
   "cell_type": "code",
   "execution_count": 4,
   "metadata": {},
   "outputs": [
    {
     "name": "stdout",
     "output_type": "stream",
     "text": [
      "DatasetDict({\n",
      "    train: Dataset({\n",
      "        features: ['article', 'highlights', 'id'],\n",
      "        num_rows: 287113\n",
      "    })\n",
      "    validation: Dataset({\n",
      "        features: ['article', 'highlights', 'id'],\n",
      "        num_rows: 13368\n",
      "    })\n",
      "    test: Dataset({\n",
      "        features: ['article', 'highlights', 'id'],\n",
      "        num_rows: 11490\n",
      "    })\n",
      "})\n"
     ]
    }
   ],
   "source": [
    "print(ds)"
   ]
  },
  {
   "cell_type": "markdown",
   "metadata": {},
   "source": [
    "some of the articles are too long for the model, we will trancuate to max number of tokens for Bart \"1024\""
   ]
  },
  {
   "cell_type": "code",
   "execution_count": 5,
   "metadata": {},
   "outputs": [
    {
     "name": "stdout",
     "output_type": "stream",
     "text": [
      "4819\n"
     ]
    }
   ],
   "source": [
    "train_ds = ds['train']\n",
    "print(len(train_ds['article'][6]))"
   ]
  },
  {
   "cell_type": "code",
   "execution_count": 16,
   "metadata": {},
   "outputs": [],
   "source": [
    "tokenizer = BartTokenizer.from_pretrained(\"facebook/bart-large-cnn\")\n",
    "model = BartForConditionalGeneration.from_pretrained(\"facebook/bart-large-cnn\")\n",
    "model.to(device)\n",
    "def Summarizer(text):\n",
    "    inputs = tokenizer(text,return_tensors='pt',max_length=1024,truncation=True)\n",
    "    inputs.to(device)\n",
    "    summary_ids = model.generate(inputs[\"input_ids\"])\n",
    "    summary = tokenizer.decode(summary_ids[0],skip_special_tokens=True)\n",
    "    return summary\n"
   ]
  },
  {
   "cell_type": "code",
   "execution_count": 19,
   "metadata": {},
   "outputs": [
    {
     "name": "stdout",
     "output_type": "stream",
     "text": [
      "Harry Potter star Daniel Radcliffe turns 18 on Monday. He gains access to a reported £20 million ($41.1 million) fortune. Radcliffe's earnings from the first five Potter films have been held in a trust fund. Details of how he'll mark his landmark birthday are under wraps.\n",
      "Judge Steven Leifman is an advocate for justice and the mentally ill. About one-third of all people in Miami-Dade county jails are mentally ill, he says. He says the sheer volume is overwhelming the system. Starting in 2008, many inmates will be sent to a new mental health facility.\n",
      "NEW: \"I probably had a 30-, 35-foot free fall,\" survivor Gary Babineau says. NEW: \"My truck was completely face down, pointed toward the ground, and my truck got ripped in half,\" he says. Emergency room physician John Hink rushed to the scene in 15 minutes. Rescue effort was controlled and organized, he says; opposite of the lightning-quick collapse.\n",
      "Doctors remove five small polyps from President Bush's colon. All were small, less than a centimeter [half an inch] in diameter, White House says. Bush reclaimed presidential power at 9:21 a.m. after about two hours. Vice President Dick Cheney assumed presidential power during the procedure.\n",
      "NEW: Atlanta Falcons owner Arthur Blank calls Vick's actions \"incomprehensible\" Vick agrees to plead guilty to one count of \"Conspiracy to Travel in Interstate Commerce\" Vick's admission that he was involved in the killing of dogs could lead to local charges. NFL Commissioner Roger Goodell says he will review status of suspension after legal proceedings.\n",
      "Youssif, 5, was doused in gasoline and set on fire outside his home in Baghdad. His parents say they tried in vain to get help for their son. CNN's coverage of the story inspired the Children's Burn Foundation to act. The foundation has agreed to pay for the transportation for the family to come to the U.S.\n",
      "Iraqi women say they are driven to prostitution to put food on the table for their children. Violence, increased cost of living, lack of government aid leave women with few other options. \"I have to do anything that I can to preserve my child, because I am a mother,\" one says.\n"
     ]
    }
   ],
   "source": [
    "train_ds = ds['train']\n",
    "for index in range(7):\n",
    "    test = train_ds[index]\n",
    "    test = Summarizer(test['article'])\n",
    "    print(test)"
   ]
  },
  {
   "cell_type": "markdown",
   "metadata": {},
   "source": [
    "that works, alright,"
   ]
  },
  {
   "cell_type": "code",
   "execution_count": 21,
   "metadata": {},
   "outputs": [],
   "source": [
    "with gr.Blocks() as demo:\n",
    "  with gr.Row():\n",
    "    uInput = gr.Textbox()\n",
    "  with gr.Row():\n",
    "    run = gr.Button(\"Summarize\")\n",
    "    output = gr.Textbox(label=\"Summarized\")\n",
    "\n",
    "  event = run.click(\n",
    "      fn = Summarizer,\n",
    "      inputs = [uInput],\n",
    "      outputs =[output]\n",
    "  )"
   ]
  },
  {
   "cell_type": "code",
   "execution_count": 23,
   "metadata": {},
   "outputs": [
    {
     "name": "stdout",
     "output_type": "stream",
     "text": [
      "Rerunning server... use `close()` to stop if you need to change `launch()` parameters.\n",
      "----\n",
      "Running on public URL: https://796a11757ac59193f0.gradio.live\n",
      "\n",
      "This share link expires in 72 hours. For free permanent hosting and GPU upgrades, run `gradio deploy` from Terminal to deploy to Spaces (https://huggingface.co/spaces)\n"
     ]
    },
    {
     "data": {
      "text/html": [
       "<div><iframe src=\"https://796a11757ac59193f0.gradio.live\" width=\"100%\" height=\"500\" allow=\"autoplay; camera; microphone; clipboard-read; clipboard-write;\" frameborder=\"0\" allowfullscreen></iframe></div>"
      ],
      "text/plain": [
       "<IPython.core.display.HTML object>"
      ]
     },
     "metadata": {},
     "output_type": "display_data"
    },
    {
     "data": {
      "text/plain": []
     },
     "execution_count": 23,
     "metadata": {},
     "output_type": "execute_result"
    }
   ],
   "source": [
    "demo.launch(share=True)"
   ]
  },
  {
   "cell_type": "code",
   "execution_count": null,
   "metadata": {},
   "outputs": [],
   "source": [
    "def training_tokenizer(dataset):\n",
    "    inputs = dataset['article']\n",
    "    targts = dataset['highlights']\n",
    "    model_inputs = tokenizer(inputs,max_length=1024,truncation=True)\n",
    "    model_inputs.to(device)"
   ]
  }
 ],
 "metadata": {
  "kernelspec": {
   "display_name": "transformersxx",
   "language": "python",
   "name": "python3"
  },
  "language_info": {
   "codemirror_mode": {
    "name": "ipython",
    "version": 3
   },
   "file_extension": ".py",
   "mimetype": "text/x-python",
   "name": "python",
   "nbconvert_exporter": "python",
   "pygments_lexer": "ipython3",
   "version": "3.11.9"
  }
 },
 "nbformat": 4,
 "nbformat_minor": 2
}
